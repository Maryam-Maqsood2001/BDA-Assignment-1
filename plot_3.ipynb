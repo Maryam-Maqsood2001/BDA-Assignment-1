{
  "cells": [
    {
      "cell_type": "code",
      "execution_count": null,
      "metadata": {
        "colab": {
          "base_uri": "https://localhost:8080/"
        },
        "id": "0FzPLW0hILxX",
        "outputId": "d3e3ce5a-4366-496b-f06c-731292e2d136"
      },
      "outputs": [
        {
          "name": "stdout",
          "output_type": "stream",
          "text": [
            "Drive already mounted at /content/drive; to attempt to forcibly remount, call drive.mount(\"/content/drive\", force_remount=True).\n"
          ]
        }
      ],
      "source": [
        "import pandas as pd\n",
        "import matplotlib.pyplot as plt\n",
        "\n",
        "from google.colab import drive\n",
        "drive.mount('/content/drive')\n",
        "\n",
        "file_path = '/content/drive/My Drive/household_power_consumption.xlsx'  # Update with the actual path\n",
        "df = pd.read_excel(file_path)\n",
        "\n",
        "df['DateTime'] = pd.to_datetime(df['Date'].astype(str) + ' ' + df['Time'].astype(str))\n",
        "\n",
        "start_date = '2007-02-01'\n",
        "end_date = '2007-02-02'\n",
        "filtered_df = df[(df['Date'] >= start_date) & (df['Date'] <= end_date)]\n",
        "\n",
        "\n",
        "\n",
        "plt.figure(figsize=(6, 6))\n",
        "plt.plot(filtered_df['DateTime'], filtered_df['Sub_metering_1'], color='green', label='submetering_1')\n",
        "plt.plot(filtered_df['DateTime'], filtered_df['Sub_metering_2'], color='blue', label='submetering_2')\n",
        "plt.plot(filtered_df['DateTime'], filtered_df['Sub_metering_3'], color='red', label='submetering_3')\n",
        "plt.title('Energy Sub Metering')\n",
        "plt.xlabel('Date')\n",
        "plt.ylabel('Energy (Wh)')\n",
        "plt.legend()\n",
        "\n",
        "plt.yticks(range(0, 31, 10))\n",
        "\n",
        "plt.xticks(rotation=45)\n",
        "plt.show()\n",
        "plt.savefig('plot3.png', dpi=100)\n",
        "plt.close()\n"
      ]
    }
  ],
  "metadata": {
    "colab": {
      "provenance": []
    },
    "kernelspec": {
      "display_name": "Python 3",
      "name": "python3"
    },
    "language_info": {
      "name": "python"
    }
  },
  "nbformat": 4,
  "nbformat_minor": 0
}