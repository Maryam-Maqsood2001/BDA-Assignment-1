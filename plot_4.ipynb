{
  "cells": [
    {
      "cell_type": "code",
      "execution_count": null,
      "metadata": {
        "colab": {
          "base_uri": "https://localhost:8080/"
        },
        "id": "vZE-LxTDowQE",
        "outputId": "f985b75d-beb7-4961-863c-b4ec55a30b49"
      },
      "outputs": [
        {
          "output_type": "stream",
          "name": "stdout",
          "text": [
            "Drive already mounted at /content/drive; to attempt to forcibly remount, call drive.mount(\"/content/drive\", force_remount=True).\n"
          ]
        }
      ],
      "source": [
        "import pandas as pd\n",
        "import matplotlib.pyplot as plt\n",
        "\n",
        "from google.colab import drive\n",
        "drive.mount('/content/drive')\n",
        "\n",
        "file_path = '/content/drive/My Drive/household_power_consumption.xlsx'  # Update with the actual path\n",
        "df = pd.read_excel(file_path)\n",
        "\n",
        "df['DateTime'] = pd.to_datetime(df['Date'].astype(str) + ' ' + df['Time'].astype(str))\n",
        "\n",
        "start_date = '2007-02-01'\n",
        "end_date = '2007-02-02'\n",
        "filtered_df = df[(df['Date'] >= start_date) & (df['Date'] <= end_date)]\n",
        "\n",
        "fig, axs = plt.subplots(2, 2, figsize=(12, 6))\n",
        "\n",
        "axs[0, 0].plot(filtered_df['DateTime'], filtered_df['Global_active_power'], color='blue')\n",
        "axs[0, 0].set_title('Global Active Power')\n",
        "axs[0, 0].set_xlabel('Date')\n",
        "axs[0, 0].set_ylabel('Global Active Power (kW)')\n",
        "axs[0, 0].tick_params(axis='x', rotation=45)\n",
        "\n",
        "axs[0, 1].plot(filtered_df['DateTime'], filtered_df['Voltage'], color='red')\n",
        "axs[0, 1].set_title('Voltage')\n",
        "axs[0, 1].set_xlabel('Date')\n",
        "axs[0, 1].set_ylabel('Voltage (V)')\n",
        "axs[0, 1].tick_params(axis='x', rotation=45)\n",
        "\n",
        "axs[1, 0].plot(filtered_df['DateTime'], filtered_df['Sub_metering_1'], color='green', label='Sub_metering_1')\n",
        "axs[1, 0].plot(filtered_df['DateTime'], filtered_df['Sub_metering_2'], color='blue', label='Sub_metering_1')\n",
        "axs[1, 0].plot(filtered_df['DateTime'], filtered_df['Sub_metering_3'], color='red', label='Sub_metering_1')\n",
        "axs[1, 0].set_title('Energy Sub Metering')\n",
        "axs[1, 0].set_xlabel('Date')\n",
        "axs[1, 0].set_ylabel('Energy (Wh)')\n",
        "axs[1, 0].legend()\n",
        "axs[1, 0].tick_params(axis='x', rotation=45)\n",
        "\n",
        "axs[1, 1].plot(filtered_df['DateTime'], filtered_df['Global_reactive_power'], color='purple')\n",
        "axs[1, 1].set_title('Global Reactive Power')\n",
        "axs[1, 1].set_xlabel('Date')\n",
        "axs[1, 1].set_ylabel('Global Reactive Power (kW)')\n",
        "axs[1, 1].tick_params(axis='x', rotation=45)\n",
        "\n",
        "plt.tight_layout()\n",
        "\n",
        "plt.savefig('combined_plots.png', dpi=100)\n",
        "\n",
        "plt.close()\n"
      ]
    }
  ],
  "metadata": {
    "colab": {
      "provenance": []
    },
    "kernelspec": {
      "display_name": "Python 3",
      "name": "python3"
    },
    "language_info": {
      "name": "python"
    }
  },
  "nbformat": 4,
  "nbformat_minor": 0
}